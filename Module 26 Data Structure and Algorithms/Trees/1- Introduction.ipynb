{
 "cells": [
  {
   "cell_type": "markdown",
   "metadata": {
    "dotnet_interactive": {
     "language": "csharp"
    }
   },
   "source": [
    "# Introduction to Trees Data structure\n",
    "\n",
    "- A Tree is (_non-leanear_) used to represent data in a hierarchical format. \n",
    "- consisting of a collection of nodes such that each node of the tree stores a value, a list of references to nodes (the “children”).\n",
    "- Every node in a tree has 2 components (Data and References) \n",
    "- (_Binary Trees_) The top node of the tree is called the Root node and the 2 products  under it are called \"Left Subtree\" and \"Right Subtree\".\n",
    "- __Parent Node:__ The node which is a predecessor of a node is called the parent node of that node. {2} is the parent node of {6, 7}.\n",
    "- __Child Node__: The node which is the immediate successor of a node is called the child node of that node. Examples: {6, 7} are the child nodes of {2}.\n",
    "- __Root Node__: The topmost node of a tree or the node which does not have any parent node is called the root node. {1} is the root node of the tree. A non-empty tree must contain exactly one root node and exactly one path from the root to all other nodes of the tree.\n",
    "- __Degree of a Node__: The total count of subtrees attached to that node is called the degree of the node. The degree of a leaf node must be 0. The degree of a tree is the maximum degree of a node among all the nodes in the tree. The degree of the node {3} is 3.\n",
    "- __Leaf Node or External Node__: The nodes which do not have any child nodes are called leaf nodes. {6, 14, 8, 9, 15, 16, 4, 11, 12, 17, 18, 19} are the leaf nodes of the tree.\n",
    "- __Ancestor__ of a Node: Any predecessor nodes on the path of the root to that node are called Ancestors of that node. {1, 2} are the parent nodes of the node {7}\n",
    "- __Descendant__: Any successor node on the path from the leaf node to that node. {7, 14} are the descendants of the node. {2}.\n",
    "- __Sibling__: Children of the same parent node are called siblings. {8, 9, 10} are called siblings.\n",
    "- __Depth of a node__: The count of edges from the root to the node. Depth of node {14} is 3.\n",
    "- __Height of a node__: The number of edges on the longest path from that node to a leaf. Height of node {3} is 2.\n",
    "- __Height of a tree__: The height of a tree is the height of the root node i.e the count of edges from the root to the deepest node. The height of the above tree is 3.\n",
    "- __Level of a node__: The count of edges on the path from the root node to that node. The root node has level 0.\n",
    "- __Internal node__: A node with at least one child is called Internal Node.\n",
    "- __Neighbour of a Node__: Parent or child nodes of that node are called neighbors of that node.\n",
    "- __Subtree__: Any node of the tree along with its descendant\n",
    "- ![Tree](.\\PICS\\Tree-Basic-Terminology.png)\n",
    "\n",
    "> Recursive Definition: : A tree consists of a root, and zero or more subtrees T1, T2, … , Tk such that there is an edge from the root of the tree to the root of each subtree.\n",
    "\n",
    "![Recursive tree](./PICS/Recursive-Tree1.png)\n",
    "\n",
    "\n",
    "## Resources \n",
    "- https://www.geeksforgeeks.org/introduction-to-tree-data-structure/\n",
    "- https://www.c-sharpcorner.com/article/tree-data-structure/\n"
   ]
  }
 ],
 "metadata": {
  "kernelspec": {
   "display_name": ".NET (C#)",
   "language": "C#",
   "name": ".net-csharp"
  },
  "language_info": {
   "file_extension": ".cs",
   "mimetype": "text/x-csharp",
   "name": "C#",
   "pygments_lexer": "csharp",
   "version": "9.0"
  },
  "orig_nbformat": 4
 },
 "nbformat": 4,
 "nbformat_minor": 2
}
