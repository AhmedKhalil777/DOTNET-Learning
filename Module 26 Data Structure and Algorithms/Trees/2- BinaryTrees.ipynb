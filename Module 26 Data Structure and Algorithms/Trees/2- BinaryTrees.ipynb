{
 "cells": [
  {
   "cell_type": "markdown",
   "metadata": {
    "dotnet_interactive": {
     "language": "csharp"
    }
   },
   "source": [
    "# Binary Tree\n",
    "\n",
    "> A tree is said to be a Binary tree if each node has _zero_, _one_ or __two__ children.\n",
    "\n",
    "## Types of Binary Trees:\n",
    "- Strict Binary Tree\n",
    "- Full Binary Tree\n",
    "- Complete Binary Tree"
   ]
  },
  {
   "cell_type": "markdown",
   "metadata": {},
   "source": [
    "### Strict BinaryTree\n",
    " \n",
    "> Each node has either __two__ children or __none__.\n",
    "\n",
    "- ![Strict BT](./PICS/StrictBT.png)"
   ]
  },
  {
   "cell_type": "markdown",
   "metadata": {},
   "source": [
    "### Full Binary Tree\n",
    "\n",
    "> Each Non-leaf node has two children and all the leaf nodes are at the same level.\n",
    "\n",
    "- ![FullBT](./PICS/FullBT.png)"
   ]
  },
  {
   "cell_type": "markdown",
   "metadata": {},
   "source": [
    "### Complete Binary Tree\n",
    "\n",
    "> If all the levels are completely filled, except the last level and the last level has all the keys as left as possible\n",
    "\n",
    "- ![](./PICS/CompleteBT.png)\n",
    "\n"
   ]
  },
  {
   "cell_type": "markdown",
   "metadata": {},
   "source": [
    "### Tree Representation can be implemented in three ways.\n",
    "- Using Object Composition\n",
    "- Using a Linkedlist\n",
    "- Using an Array \n",
    "- Using a Sorted List (Special for our implementations)\n",
    "\n",
    "The following Pic is Linked list \n",
    "\n",
    "- ![](./PICS/LLImplementationTree.png)"
   ]
  },
  {
   "cell_type": "code",
   "execution_count": null,
   "metadata": {
    "dotnet_interactive": {
     "language": "csharp"
    }
   },
   "outputs": [],
   "source": [
    "#nullable enable\n",
    "\n",
    "public class BinaryNode<T>{\n",
    "    public BinaryNode(T? value){\n",
    "        Value = value;\n",
    "    } \n",
    "    public T? Value {get; set;}\n",
    "    public BinaryNode<T>? Left {get; set;}\n",
    "    public BinaryNode<T>? Right {get; set;}\n",
    "\n",
    "    public BinaryNode<T>? GetLeft()=> Left;\n",
    "    public BinaryNode<T>? GetRight()=> Right;\n",
    "}\n",
    "\n",
    "public class BinaryTreeByLinkedList<T>{  \n",
    "   \n",
    "   public BinaryNode<T>? Root {get; set;}\n",
    "    \n",
    "   public BinaryTreeByLinkedList(){  \n",
    "        Root = null;  \n",
    "   }  \n",
    "} "
   ]
  },
  {
   "cell_type": "code",
   "execution_count": null,
   "metadata": {
    "dotnet_interactive": {
     "language": "csharp"
    }
   },
   "outputs": [],
   "source": [
    "//Init\n",
    "\n",
    "var tree = new BinaryTreeByLinkedList<int>();\n",
    "\n",
    "var root = new BinaryNode<int>(20);\n",
    "root.Left = new BinaryNode<int>(100);\n",
    "root.Left.Left = new BinaryNode<int>(50);\n",
    "root.Left.Left.Left = new BinaryNode<int>(222);\n",
    "root.Left.Right = new BinaryNode<int>(15);\n",
    "root.Right = new BinaryNode<int>(3);\n",
    "root.Right.Left = new BinaryNode<int>(250);\n",
    "root.Right.Right = new BinaryNode<int>(35);\n",
    "\n",
    "tree.Root = root;"
   ]
  },
  {
   "cell_type": "markdown",
   "metadata": {
    "dotnet_interactive": {
     "language": "csharp"
    }
   },
   "source": [
    "## Depth - first Search of a Binary tree has 3 types\n",
    "\n",
    "### Pre-Order Traversal\n",
    "\n",
    "> Consider the above Binary tree as an example. In Pre-order traversal we need to traverse (Root, Left, Right). For the above example, the output should be 20,100,50,222,15,3,250,35\n",
    "\n",
    "- ![](./PICS/LLImplementationTree.png)\n",
    "\n",
    "\n",
    "Algorithm for Pre-Order Traversal\n",
    "\n",
    "```{Algorithm}\n",
    "         Preorder(BinaryNode root)\n",
    "            if(root is null) return errorMessage\n",
    "            else\n",
    "            print root\n",
    "            Preorder(root.left)\n",
    "            Preorder(root.right) \n",
    "```\n",
    "     \n",
    "     Time Complexity: O(n)\n",
    "     Space Complexity: O(n)\n",
    "\n",
    "\n"
   ]
  },
  {
   "cell_type": "code",
   "execution_count": null,
   "metadata": {
    "dotnet_interactive": {
     "language": "csharp"
    }
   },
   "outputs": [],
   "source": []
  },
  {
   "cell_type": "code",
   "execution_count": null,
   "metadata": {
    "dotnet_interactive": {
     "language": "csharp"
    }
   },
   "outputs": [],
   "source": [
    "using System;\n",
    "\n",
    "//\n",
    "public void PreOrder<T>(BinaryNode<T> root){\n",
    "\n",
    "    // Base Case (In Recursion How to escape when be able to be small problem)\n",
    "    if(root is null) return;\n",
    "\n",
    "    Console.Write($\"{root.Value} ,\");\n",
    "\n",
    "    PreOrder(root.Left);\n",
    "    PreOrder(root.Right);\n",
    "}"
   ]
  },
  {
   "cell_type": "code",
   "execution_count": null,
   "metadata": {
    "dotnet_interactive": {
     "language": "csharp"
    }
   },
   "outputs": [
    {
     "name": "stdout",
     "output_type": "stream",
     "text": [
      "20 ,100 ,50 ,222 ,15 ,3 ,250 ,35 ,"
     ]
    }
   ],
   "source": [
    "// Calling\n",
    "\n",
    "PreOrder(tree.Root);"
   ]
  },
  {
   "cell_type": "markdown",
   "metadata": {},
   "source": [
    "### In-Order Traversal\n",
    " \n",
    "> Consider the above Binary tree as an example. With in-order traversal, we need to traverse (Left, Root, Right). In the above example, the output should be 222,50,100,15,20,250,3,35\n",
    "\n",
    "- ![](./PICS/LLImplementationTree.png)\n",
    "```{Algorithm}\n",
    "Algorithm for In-Order Traversal\n",
    " \n",
    "          InOrderTraversal(BinaryNode root)\n",
    "           if(root equals null) return error message\n",
    "           else\n",
    "              InOrderTraversal(root.left)\n",
    "              print root\n",
    "              InOrderTraversal(root.right)\n",
    "```\n"
   ]
  },
  {
   "cell_type": "code",
   "execution_count": null,
   "metadata": {
    "dotnet_interactive": {
     "language": "csharp"
    }
   },
   "outputs": [
    {
     "name": "stdout",
     "output_type": "stream",
     "text": [
      "222 ,50 ,100 ,15 ,20 ,250 ,3 ,35 ,"
     ]
    }
   ],
   "source": [
    "public void InOrder(BinaryNode<int> root){\n",
    "        // Base Case (In Recursion How to escape when be able to be small problem)\n",
    "        if(root is null) return;\n",
    "\n",
    "        InOrder(root.Left);\n",
    "        Console.Write($\"{root.Value} ,\");\n",
    "        InOrder(root.Right);\n",
    "}\n",
    "\n",
    "//Call\n",
    "InOrder(tree.Root);"
   ]
  },
  {
   "cell_type": "markdown",
   "metadata": {},
   "source": [
    "### Post-Order Traversal\n",
    " \n",
    "> Consider the above Binary tree as an example. For post-order traversal, we need to traverse (Left, Right, Root). For the above example, the output should be: __(I am Hidden Try to guess)__  <div id=\"hidden\" hidden>222 ,50 ,100 ,15 ,250 ,3 ,35 ,20 ,</div>\n",
    "\n",
    "- ![](./PICS/LLImplementationTree.png)\n",
    "```\n",
    "Algorithm for Post-Order traversal\n",
    " \n",
    "      PostOrderTraversal(BinaryNode root)\n",
    "      if(root equals null) return errorMessage\n",
    "      else\n",
    "        PostOrderTraversal(root.left)\n",
    "        PostOrderTraversal(root.right)\n",
    "        print root\n",
    " \n",
    "Time Complexity: O(n)\n",
    "Space Complexity: O(n)    \n",
    "```"
   ]
  },
  {
   "cell_type": "code",
   "execution_count": null,
   "metadata": {
    "dotnet_interactive": {
     "language": "csharp"
    }
   },
   "outputs": [
    {
     "name": "stdout",
     "output_type": "stream",
     "text": [
      "222 ,50 ,100 ,15 ,250 ,3 ,35 ,20 ,"
     ]
    }
   ],
   "source": [
    "public void PostOrder(BinaryNode<int> root){\n",
    "    // Base Case (In Recursion How to escape when be able to be small problem)\n",
    "    if(root is null) return;\n",
    "\n",
    "    InOrder(root.Left);\n",
    "    InOrder(root.Right);\n",
    "    Console.Write($\"{root.Value} ,\");\n",
    "}\n",
    "\n",
    "//Call\n",
    "PostOrder(tree.Root);"
   ]
  },
  {
   "cell_type": "markdown",
   "metadata": {},
   "source": [
    "### Level Order Traversal (Breadth-First Search of Binary Tree)\n",
    " \n",
    "> Consider above Binary Tree as an example. The output for above example is: 20,100,3,50,15,250,35,222\n",
    "\n",
    "- ![](./PICS/LLImplementationTree.png)\n",
    "```\n",
    "Algorithm for Level-Order traversal\n",
    " \n",
    "     LevelOrderTraversal(BinaryNode root)\n",
    "     CreateQueue(q) \n",
    "     enqueue(root)\n",
    "     while(q is notEmpty)\n",
    "         print root\n",
    "         enqueue()\n",
    "        dequeue() and Print\n",
    " \n",
    "TimeComplexity: O(n)\n",
    "SpaceComplexity: O(n)   \n",
    "```"
   ]
  },
  {
   "cell_type": "code",
   "execution_count": null,
   "metadata": {
    "dotnet_interactive": {
     "language": "csharp"
    }
   },
   "outputs": [
    {
     "data": {
      "text/html": [
       "<div class=\"dni-plaintext\">20</div>"
      ]
     },
     "metadata": {},
     "output_type": "display_data"
    },
    {
     "data": {
      "text/html": [
       "<div class=\"dni-plaintext\">100</div>"
      ]
     },
     "metadata": {},
     "output_type": "display_data"
    },
    {
     "data": {
      "text/html": [
       "<div class=\"dni-plaintext\">3</div>"
      ]
     },
     "metadata": {},
     "output_type": "display_data"
    },
    {
     "data": {
      "text/html": [
       "<div class=\"dni-plaintext\">50</div>"
      ]
     },
     "metadata": {},
     "output_type": "display_data"
    },
    {
     "data": {
      "text/html": [
       "<div class=\"dni-plaintext\">15</div>"
      ]
     },
     "metadata": {},
     "output_type": "display_data"
    },
    {
     "data": {
      "text/html": [
       "<div class=\"dni-plaintext\">250</div>"
      ]
     },
     "metadata": {},
     "output_type": "display_data"
    },
    {
     "data": {
      "text/html": [
       "<div class=\"dni-plaintext\">35</div>"
      ]
     },
     "metadata": {},
     "output_type": "display_data"
    },
    {
     "data": {
      "text/html": [
       "<div class=\"dni-plaintext\">222</div>"
      ]
     },
     "metadata": {},
     "output_type": "display_data"
    }
   ],
   "source": [
    "using System.Collections.Generic;\n",
    "using System.Linq;\n",
    "\n",
    "public void LevelOrderTraversal<T>(BinaryNode<T> root)\n",
    "{\n",
    "    var queue = new Queue<BinaryNode<T>>();\n",
    "    queue.Enqueue(root);\n",
    "    while(queue.Any()){\n",
    "        var presentNode = queue.Dequeue();\n",
    "        presentNode.Value.Display();\n",
    "        if (presentNode.GetLeft() is not null){\n",
    "            queue.Enqueue(presentNode.GetLeft());\n",
    "        }\n",
    "        if (presentNode.GetRight() is not null){\n",
    "            queue.Enqueue(presentNode.GetRight());\n",
    "        }\n",
    "    }\n",
    "}\n",
    "\n",
    "// Calling\n",
    "LevelOrderTraversal(tree.Root);\n"
   ]
  },
  {
   "cell_type": "markdown",
   "metadata": {
    "dotnet_interactive": {
     "language": "csharp"
    }
   },
   "source": [
    "## Search a Value in Binary Tree\n",
    " \n",
    "> In order to search for a value in a Binary tree, it is always good to use a Queue rather than stack. (i.e Using level-Order traversal is the best way to search a value)\n",
    "\n",
    "![](./PICS/SearchExample.png)\n"
   ]
  },
  {
   "cell_type": "code",
   "execution_count": null,
   "metadata": {
    "dotnet_interactive": {
     "language": "csharp"
    }
   },
   "outputs": [
    {
     "data": {
      "text/html": [
       "<div class=\"dni-plaintext\">20</div>"
      ]
     },
     "metadata": {},
     "output_type": "display_data"
    },
    {
     "name": "stdout",
     "output_type": "stream",
     "text": [
      "value: 15 is not found Here of Present 20\r\n"
     ]
    },
    {
     "data": {
      "text/html": [
       "<div class=\"dni-plaintext\">100</div>"
      ]
     },
     "metadata": {},
     "output_type": "display_data"
    },
    {
     "name": "stdout",
     "output_type": "stream",
     "text": [
      "value: 15 is not found Here of Present 100\r\n"
     ]
    },
    {
     "data": {
      "text/html": [
       "<div class=\"dni-plaintext\">3</div>"
      ]
     },
     "metadata": {},
     "output_type": "display_data"
    },
    {
     "name": "stdout",
     "output_type": "stream",
     "text": [
      "value: 15 is not found Here of Present 3\r\n"
     ]
    },
    {
     "data": {
      "text/html": [
       "<div class=\"dni-plaintext\">50</div>"
      ]
     },
     "metadata": {},
     "output_type": "display_data"
    },
    {
     "name": "stdout",
     "output_type": "stream",
     "text": [
      "value: 15 is not found Here of Present 50\r\n"
     ]
    },
    {
     "data": {
      "text/html": [
       "<div class=\"dni-plaintext\">15</div>"
      ]
     },
     "metadata": {},
     "output_type": "display_data"
    },
    {
     "name": "stdout",
     "output_type": "stream",
     "text": [
      "value 15 is found Here\r\n"
     ]
    },
    {
     "data": {
      "text/html": [
       "<div class=\"dni-plaintext\">250</div>"
      ]
     },
     "metadata": {},
     "output_type": "display_data"
    },
    {
     "name": "stdout",
     "output_type": "stream",
     "text": [
      "value: 15 is not found Here of Present 250\r\n"
     ]
    },
    {
     "data": {
      "text/html": [
       "<div class=\"dni-plaintext\">35</div>"
      ]
     },
     "metadata": {},
     "output_type": "display_data"
    },
    {
     "name": "stdout",
     "output_type": "stream",
     "text": [
      "value: 15 is not found Here of Present 35\r\n"
     ]
    },
    {
     "data": {
      "text/html": [
       "<div class=\"dni-plaintext\">222</div>"
      ]
     },
     "metadata": {},
     "output_type": "display_data"
    },
    {
     "name": "stdout",
     "output_type": "stream",
     "text": [
      "value: 15 is not found Here of Present 222\r\n"
     ]
    }
   ],
   "source": [
    "// If we want to search the value \"15\" from above tree, we can use BFS Binary First Search. At Level3, we have the value 15. \n",
    "\n",
    "public void SearchBFS<T>(BinaryNode<T> root, T value) where T: IEquatable<T>\n",
    "{\n",
    "    var queue = new Queue<BinaryNode<T>>();\n",
    "    queue.Enqueue(root);\n",
    "    while(queue.Any()){\n",
    "        var presentNode = queue.Dequeue();\n",
    "        presentNode.Value.Display();\n",
    "        if(presentNode.Value.Equals(value)){\n",
    "            Console.WriteLine($\"value {presentNode.Value} is found Here\");\n",
    "            continue;\n",
    "        }\n",
    "        if (presentNode.GetLeft() is not null){\n",
    "            queue.Enqueue(presentNode.GetLeft());\n",
    "        }\n",
    "        if (presentNode.GetRight() is not null){\n",
    "            queue.Enqueue(presentNode.GetRight());\n",
    "        }\n",
    "        Console.WriteLine($\"value: {value} is not found Here of Present {presentNode.Value}\");\n",
    "    }\n",
    "}\n",
    "\n",
    "// Calling\n",
    "\n",
    "SearchBFS(tree.Root, 15);"
   ]
  },
  {
   "cell_type": "code",
   "execution_count": null,
   "metadata": {
    "dotnet_interactive": {
     "language": "csharp"
    }
   },
   "outputs": [],
   "source": []
  }
 ],
 "metadata": {
  "kernelspec": {
   "display_name": ".NET (C#)",
   "language": "C#",
   "name": ".net-csharp"
  },
  "language_info": {
   "file_extension": ".cs",
   "mimetype": "text/x-csharp",
   "name": "C#",
   "pygments_lexer": "csharp",
   "version": "9.0"
  },
  "orig_nbformat": 4
 },
 "nbformat": 4,
 "nbformat_minor": 2
}
