{
 "cells": [
  {
   "cell_type": "code",
   "execution_count": 17,
   "metadata": {},
   "outputs": [],
   "source": [
    "public class User {\n",
    "    public int Id {get; set;}\n",
    "    public string name {get; set;}\n",
    "}\n",
    "\n",
    "public class Student : User {\n",
    "    public float degree {get; set;}    \n",
    "}"
   ]
  },
  {
   "cell_type": "code",
   "execution_count": 10,
   "metadata": {},
   "outputs": [],
   "source": [
    "using System.Collections.Generic;\n"
   ]
  },
  {
   "cell_type": "code",
   "execution_count": 20,
   "metadata": {},
   "outputs": [],
   "source": [
    "var users = new List<User>{\n",
    "new User{Id = 1 ,  name = \"Ahmed\" },\n",
    "new User{Id = 2 ,  name = \"Ibrahim\" } ,\n",
    "new User{Id = 3 ,  name = \"Soltan\"},\n",
    "new User{Id = 4 ,  name = \"Mousa\"} ,\n",
    "new User{Id = 5 ,  name = \"Michael\" },\n",
    "new User{Id = 6 ,  name = \"Moftah\"},\n",
    "new User{Id = 7 ,  name = \"Sindrella\"},\n",
    "new Student{Id = 8 ,  name = \"Valcun\" , degree = (float)100.00},\n",
    "};"
   ]
  },
  {
   "cell_type": "code",
   "execution_count": 37,
   "metadata": {},
   "outputs": [
    {
     "ename": "Unhandled Exception",
     "evalue": "(1,69): error CS1061: 'User' does not contain a definition for 'degree' and no accessible extension method 'degree' accepting a first argument of type 'User' could be found (are you missing a using directive or an assembly reference?)\r\n(1,81): error CS1061: 'User' does not contain a definition for 'degree' and no accessible extension method 'degree' accepting a first argument of type 'User' could be found (are you missing a using directive or an assembly reference?)",
     "output_type": "error",
     "traceback": [
      "(1,69): error CS1061: 'User' does not contain a definition for 'degree' and no accessible extension method 'degree' accepting a first argument of type 'User' could be found (are you missing a using directive or an assembly reference?)\r\n(1,81): error CS1061: 'User' does not contain a definition for 'degree' and no accessible extension method 'degree' accepting a first argument of type 'User' could be found (are you missing a using directive or an assembly reference?)"
     ]
    }
   ],
   "source": [
    "users.Select(x=> new Student{Id =  x.Id,  name= x.name , degree= (typeof(x).) ? x.degree : null})"
   ]
  },
  {
   "cell_type": "code",
   "execution_count": 14,
   "metadata": {},
   "outputs": [
    {
     "data": {
      "text/html": [
       "<table><thead><tr><th>Id</th><th>name</th><th>degree</th></tr></thead><tbody><tr><td>1</td><td>Ahmed</td><td>100</td></tr></tbody></table>"
      ]
     },
     "execution_count": 14,
     "metadata": {},
     "output_type": "execute_result"
    }
   ],
   "source": [
    "users[0]"
   ]
  },
  {
   "cell_type": "code",
   "execution_count": 16,
   "metadata": {},
   "outputs": [
    {
     "data": {
      "text/html": [
       "<table><thead><tr><th>Id</th><th>name</th><th>degree</th></tr></thead><tbody><tr><td>3</td><td>Soltan</td><td>100</td></tr></tbody></table>"
      ]
     },
     "execution_count": 16,
     "metadata": {},
     "output_type": "execute_result"
    }
   ],
   "source": [
    "var my =  users.First(x=> x.Id == 3);\n",
    "my"
   ]
  },
  {
   "cell_type": "code",
   "execution_count": null,
   "metadata": {},
   "outputs": [],
   "source": []
  }
 ],
 "metadata": {
  "kernelspec": {
   "display_name": ".NET (C#)",
   "language": "C#",
   "name": ".net-csharp"
  },
  "language_info": {
   "file_extension": ".cs",
   "mimetype": "text/x-csharp",
   "name": "C#",
   "pygments_lexer": "csharp",
   "version": "8.0"
  }
 },
 "nbformat": 4,
 "nbformat_minor": 4
}
