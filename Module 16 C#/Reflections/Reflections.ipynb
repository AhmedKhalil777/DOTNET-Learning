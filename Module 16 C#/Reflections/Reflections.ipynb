{
    "cells": [
        {
            "cell_type": "markdown",
            "metadata": {
                "dotnet_interactive": {
                    "language": "csharp"
                }
            },
            "source": [
                "# .Net Reflections and MetaProgramming Quickly Beginning\n",
                "\n",
                "- The basic principles of object-oriented programming (OOP) are understood by\n",
                "most software developers these days. For example, you probably understand how\n",
                "encapsulation and implementation-hiding can increase the cohesion of classes.\n",
                "Languages like C# and Visual Basic are excellent for creating so-called coarsely\n",
                "\n",
                "> Reflection provides objects (of type Type) that describe assemblies, modules, and types. You can use reflection to dynamically create an instance of a type, bind the type to an existing object, or get the type from an existing object and invoke its methods or access its fields and properties. If you are using attributes in your code, reflection enables you to access them. For more information, see Attributes.\n",
                "\n",
                "![](PICS/WHICHONEYOUGONNAUSE.png)\n",
                "\n",
                "- We recognize simplicity when we see it. Our challenge as programmers is in\n",
                "seeing the opportunities for simplicity in the systems we develop. Language features\n",
                "like encapsulation, abstraction, inheritance, data-hiding, and polymorphism are great,\n",
                "but they only take you part of the way there\n",
                "\n",
                "- Seems like I in SOLID\n",
                "\n",
                "- \"MetaProgram\" = “a computer program that writes new computer programs.”\n",
                "\n",
                "- This sounds a lot like the definition of a compiler. A compiler for a\n",
                "programming language like C# could be thought of as the ultimate metaprogram,\n",
                "because its only job is to produce other programs from source code.\n",
                "\n",
                "- In the near future, that will be changing with the release of Microsoft’s Roslyn (code name) tools. Roslyn opens the black\n",
                "box of the C# and VB compilers to make them available before, during, and after the\n",
                "deployment of your applications. When that happens, we expect to see Microsoft’s\n",
                "compilers used in many metaprogramming scenarios.\n",
                "\n",
                "-  Each time you see the word metaprogramming in this\n",
                "book, try to think of it as after-programming or beside-programming. The\n",
                "Greek prefix meta allows for both of those definitions to be correct. "
            ]
        },
        {
            "cell_type": "code",
            "execution_count": null,
            "metadata": {
                "dotnet_interactive": {
                    "language": "csharp"
                },
                "vscode": {
                    "languageId": "dotnet-interactive.csharp"
                }
            },
            "outputs": [
                {
                    "name": "stdout",
                    "output_type": "stream",
                    "text": [
                        "c# cs csharp \r\n",
                        "vb vbs visualbasic vbscript \r\n"
                    ]
                }
            ],
            "source": [
                "foreach (var ci in System.CodeDom.Compiler.CodeDomProvider.GetAllCompilerInfo())\n",
                "   {\n",
                "    foreach (string language in ci.GetLanguages())\n",
                "    System.Console.Write(\"{0} \", language);\n",
                "    System.Console.WriteLine();\n",
                "   }\n",
                "   "
            ]
        },
        {
            "cell_type": "code",
            "execution_count": null,
            "metadata": {
                "dotnet_interactive": {
                    "language": "csharp"
                },
                "vscode": {
                    "languageId": "dotnet-interactive.csharp"
                }
            },
            "outputs": [
                {
                    "name": "stdout",
                    "output_type": "stream",
                    "text": [
                        "namespace MetaWorld\r\n",
                        "{\r\n",
                        " using System;\r\n",
                        " \r\n",
                        " public class Program\r\n",
                        " {\r\n",
                        "  static void Main()\r\n",
                        "  {\r\n",
                        "   Console.WriteLine(\"Hello, world!\");\r\n",
                        "  }\r\n",
                        " }\r\n",
                        "}\r\n",
                        "\r\n"
                    ]
                }
            ],
            "source": [
                "using System;\n",
                "using System.Reflection;\n",
                "using System.CodeDom;\n",
                "using System.CodeDom.Compiler;\n",
                "using System.IO;\n",
                "\n",
                "partial class HelloWorldCodeDOM\n",
                "{\n",
                "   public static void GenerateCode()\n",
                " {\n",
                " CodeNamespace prgNamespace = BuildProgram();\n",
                " var compilerOptions = new CodeGeneratorOptions()\n",
                " {\n",
                " IndentString = \" \",\n",
                " BracingStyle = \"C\",\n",
                " BlankLinesBetweenMembers = false\n",
                " };\n",
                " var codeText = new StringBuilder();\n",
                " using (var codeWriter = new StringWriter(codeText))\n",
                " {\n",
                " CodeDomProvider.CreateProvider(\"c#\")\n",
                " .GenerateCodeFromNamespace(\n",
                " prgNamespace, codeWriter, compilerOptions);\n",
                " }\n",
                " var script = codeText.ToString();\n",
                " Console.WriteLine(script);\n",
                " }\n",
                "\n",
                " public static CodeNamespace BuildProgram()\n",
                " {\n",
                " var ns = new CodeNamespace(\"MetaWorld\");\n",
                " var systemImport = new CodeNamespaceImport(\"System\");\n",
                " ns.Imports.Add(systemImport);\n",
                " var programClass = new CodeTypeDeclaration(\"Program\");\n",
                " ns.Types.Add(programClass);\n",
                " var methodMain = new CodeMemberMethod\n",
                " {\n",
                " Attributes = MemberAttributes.Static\n",
                " , Name = \"Main\"\n",
                " };\n",
                " methodMain.Statements.Add(\n",
                " new CodeMethodInvokeExpression(\n",
                " new CodeSnippetExpression(\"Console\")\n",
                " , \"WriteLine\"\n",
                " , new CodePrimitiveExpression(\"Hello, world!\")\n",
                " )\n",
                " );\n",
                " programClass.Members.Add(methodMain);\n",
                " return ns;\n",
                " }\n",
                "}\n",
                "\n",
                "HelloWorldCodeDOM.GenerateCode();"
            ]
        },
        {
            "cell_type": "code",
            "execution_count": null,
            "metadata": {
                "dotnet_interactive": {
                    "language": "csharp"
                },
                "vscode": {
                    "languageId": "dotnet-interactive.csharp"
                }
            },
            "outputs": [],
            "source": []
        },
        {
            "cell_type": "markdown",
            "metadata": {},
            "source": []
        },
        {
            "cell_type": "markdown",
            "metadata": {},
            "source": []
        },
        {
            "cell_type": "markdown",
            "metadata": {},
            "source": []
        },
        {
            "cell_type": "code",
            "execution_count": null,
            "metadata": {
                "dotnet_interactive": {
                    "language": "csharp"
                },
                "vscode": {
                    "languageId": "dotnet-interactive.csharp"
                }
            },
            "outputs": [],
            "source": []
        },
        {
            "cell_type": "markdown",
            "metadata": {},
            "source": []
        }
    ],
    "metadata": {
        "kernelspec": {
            "display_name": ".NET (C#)",
            "language": "C#",
            "name": ".net-csharp"
        },
        "language_info": {
            "file_extension": ".cs",
            "mimetype": "text/x-csharp",
            "name": "C#",
            "pygments_lexer": "csharp",
            "version": "9.0"
        },
        "orig_nbformat": 4
    },
    "nbformat": 4,
    "nbformat_minor": 2
}
