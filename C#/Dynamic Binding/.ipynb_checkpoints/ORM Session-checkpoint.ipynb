{
 "cells": [
  {
   "cell_type": "markdown",
   "metadata": {},
   "source": [
    "# Object-Relational Mapping ( Code first or Database first )\n",
    "\n",
    "> ORM stands for `Object-Relational Mapping (ORM)` is a programming technique for converting data between relational databases and object oriented programming languages such as  C#, Java, python, JS.\n",
    "\n",
    "> It is a programming technique that abstracts your code from the database behind it.\n",
    "\n",
    "- In plain English, if you are using ORM and a Sql Server database, you could switch to any SQL-based databases like PostgreSQL or MySQl or other and NoSQl like mongodb, Coach db, Cosmos db, Dynamo db  at any time without changing your code. At all.\n",
    "\n",
    "![](./PICS/db0003-01-what_is_orm.svg\n",
    ")\n",
    "## 1- The Big Bang story of programmers and database specialists\n",
    "\n",
    "- If you write Object-Oriented Code, having a place to store your data is a must.\n",
    "- In fact, the traditional way to go is to use a Relational Database.\n",
    "- You can use Microsoft SQL, MySQL, or PostgreSQL, but in any case, you know the pain. \n",
    "- You have to spend **time mapping** between tables and your classes, create methods to save in the database and read from it, and so on.\n",
    "![](./PICS/disappointed-with-the-world.jpg)\n",
    "\n",
    "> Well, not anymore my friend. \n",
    "\n",
    "> we will explain what is ORM (Object-Relational Mapping), a solution that will solve all your pains.\n",
    "\n",
    "\n",
    "- Using an Object Relational Mapping library improves the <mark>application development process and runtime handling</mark> in many aspects. \n",
    "- To handle the communication between the Object Domain model (Classes/Objects) and Relational Model (Table/Records), we would be wasting a lot of time in writing boiler plate template code.\n",
    "- To ensure a seamless communication with robust implementation and good performance, it is better to embrace an already available ORM like:\n",
    "  - Entity Framework, Dapper (C#, F#, Visula Basic)\n",
    "  - Mongoose, RxDb NodeJs\n",
    "  - Django ORM (Python)\n",
    "  - Laravel Eloquent (PHP)\n",
    "  \n",
    "> this session we work on .Net Why?\n",
    "- as this notebook is .Net \n",
    "- and the big deal:\n",
    "![](./PICS/dotnet5_platform.png)\n",
    "\n",
    "\n"
   ]
  },
  {
   "cell_type": "markdown",
   "metadata": {},
   "source": [
    "## 2- Environment Configuration\n",
    "\n",
    "- [Install Python 3.9](https://www.python.org/ftp/python/3.9.0/python-3.9.0-amd64.exe) or [Anaconda](https://repo.anaconda.com/archive/Anaconda3-2020.11-Windows-x86_64.exe)\n",
    "- Install Dotnet 5 [SDK](https://dotnet.microsoft.com/download/dotnet/thank-you/sdk-5.0.100-windows-x64-installer) and [Runtime](https://dotnet.microsoft.com/download/dotnet/thank-you/runtime-aspnetcore-5.0.0-windows-x64-installer) \n",
    "- Open Terminal or Powershell or any bash\n",
    "\n",
    "\n",
    "- install Jupyter\n",
    "`$ pip install jupyterlab`\n",
    "\n",
    "- Installing the try tool of dotnet\n",
    "`$ dotnet tool install -g dotnet-try`\n",
    "\n",
    "- Installing the dotnet jupyter kernel\n",
    "`$ dotnet try jupyter install`\n",
    "- Open Jupyter notebook\n",
    "`$jupyter notebook`\n",
    "\n",
    "\n",
    "![](./PICS/1.PNG)\n",
    "![](./PICS/2.PNG)\n",
    "\n",
    "- Install SQL Server \n",
    "\n"
   ]
  },
  {
   "cell_type": "markdown",
   "metadata": {},
   "source": [
    "## 3-  Installing Assemblies and using them\n"
   ]
  },
  {
   "cell_type": "code",
   "execution_count": 13,
   "metadata": {},
   "outputs": [],
   "source": [
    "// Installing Assemblies\n",
    "\n",
    "#r \"nuget:Microsoft.EntityFrameworkCore, 3.1.8\"\n",
    "#r \"nuget:Microsoft.EntityFrameworkCore.Tools, 3.1.8\"\n",
    "#r \"nuget:Microsoft.EntityFrameworkCore.Design, 3.1.8\"\n",
    "#r \"nuget:Microsoft.EntityFrameworkCore.SqlServer, 3.1.8\"\n",
    "\n",
    "    \n",
    "using System;\n",
    "//Lists \n",
    "using System.Collections; \n",
    "using System.Collections.Generic;\n",
    "using Microsoft.EntityFrameworkCore;\n",
    "using Microsoft.EntityFrameworkCore.Design;\n",
    "using Microsoft.EntityFrameworkCore.SqlServer;\n",
    "using Microsoft.EntityFrameworkCore.Infrastructure;\n",
    "using Microsoft.EntityFrameworkCore.Migrations;\n",
    "using System.Linq;\n",
    "using System.Threading.Tasks;\n",
    "\n",
    "\n",
    "\n"
   ]
  },
  {
   "cell_type": "code",
   "execution_count": 14,
   "metadata": {},
   "outputs": [],
   "source": [
    "public class Student\n",
    "{\n",
    "    public int StudentId { get; set; }\n",
    "    public string Name { get; set; }\n",
    "}\n",
    "\n",
    "public class Course\n",
    "{\n",
    "    public int CourseId { get; set; }\n",
    "    public string CourseName { get; set; }\n",
    "}\n",
    "\n",
    "public class SchoolContext : DbContext\n",
    "{\n",
    "    public DbSet<Student> Students { get; set; }\n",
    "    public DbSet<Course> Courses { get; set; }\n",
    "\n",
    "    protected override void OnConfiguring(DbContextOptionsBuilder optionsBuilder)\n",
    "    { \n",
    "        optionsBuilder.UseSqlServer(@\"Data Source=DESKTOP-MM55CCG;Initial Catalog=Schooldb;Trusted_Connection=True;MultipleActiveResultSets=true\");\n",
    "    }\n",
    "}"
   ]
  },
  {
   "cell_type": "code",
   "execution_count": 15,
   "metadata": {},
   "outputs": [],
   "source": [
    "SchoolContext db = new SchoolContext();\n",
    "db.Database.EnsureCreated();\n",
    "var migrator = db.Database.GetService<IMigrator>();\n",
    "await migrator.MigrateAsync();"
   ]
  },
  {
   "cell_type": "code",
   "execution_count": 16,
   "metadata": {},
   "outputs": [],
   "source": []
  },
  {
   "cell_type": "code",
   "execution_count": 2,
   "metadata": {},
   "outputs": [
    {
     "name": "stdout",
     "output_type": "stream",
     "text": [
      "No project was found. Change the current working directory or use the --project option.\r\n"
     ]
    }
   ],
   "source": [
    "dotnet ef migrations add initial "
   ]
  },
  {
   "cell_type": "code",
   "execution_count": null,
   "metadata": {},
   "outputs": [],
   "source": []
  }
 ],
 "metadata": {
  "kernelspec": {
   "display_name": ".NET (PowerShell)",
   "language": "PowerShell",
   "name": ".net-powershell"
  },
  "language_info": {
   "file_extension": ".ps1",
   "mimetype": "text/x-powershell",
   "name": "PowerShell",
   "pygments_lexer": "powershell",
   "version": "7.0"
  }
 },
 "nbformat": 4,
 "nbformat_minor": 4
}
