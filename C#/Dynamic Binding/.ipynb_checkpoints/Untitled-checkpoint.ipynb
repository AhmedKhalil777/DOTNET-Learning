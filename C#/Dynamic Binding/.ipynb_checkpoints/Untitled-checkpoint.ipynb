{
 "cells": [
  {
   "cell_type": "code",
   "execution_count": 1,
   "metadata": {},
   "outputs": [],
   "source": [
    "public class User {\n",
    "    public int Id {get; set;}\n",
    "    public string name {get; set;}\n",
    "}\n",
    "\n",
    "public class Student : User {\n",
    "    public float degree {get; set;}    \n",
    "}"
   ]
  },
  {
   "cell_type": "code",
   "execution_count": 10,
   "metadata": {},
   "outputs": [],
   "source": [
    "using System.Collections.Generic;\n"
   ]
  },
  {
   "cell_type": "code",
   "execution_count": 12,
   "metadata": {},
   "outputs": [],
   "source": [
    "var users = new List<User>{\n",
    "new User{Id = 1 ,  name = \"Ahmed\" },\n",
    "new {Id = 2 ,  name = \"Ibrahim\" } ,\n",
    "new User{Id = 3 ,  name = \"Soltan\"},\n",
    "new User{Id = 4 ,  name = \"Mousa\"} ,\n",
    "new User{Id = 5 ,  name = \"Michael\" },\n",
    "new User{Id = 6 ,  name = \"Moftah\"},\n",
    "new User{Id = 7 ,  name = \"Sindrella\"  },\n",
    "new Student{Id = 8 ,  name = \"Valcun\" , degree = (float)100.00},\n",
    "};"
   ]
  },
  {
   "cell_type": "code",
   "execution_count": 13,
   "metadata": {},
   "outputs": [
    {
     "data": {
      "text/html": [
       "<table><thead><tr><th><i>index</i></th><th>Id</th><th>name</th><th>degree</th></tr></thead><tbody><tr><td>0</td><td>1</td><td>Ahmed</td><td>100</td></tr><tr><td>1</td><td>2</td><td>Ibrahim</td><td>100</td></tr><tr><td>2</td><td>3</td><td>Soltan</td><td>100</td></tr><tr><td>3</td><td>4</td><td>Mousa</td><td>100</td></tr><tr><td>4</td><td>5</td><td>Michael</td><td>100</td></tr><tr><td>5</td><td>6</td><td>Moftah</td><td>100</td></tr><tr><td>6</td><td>7</td><td>Sindrella</td><td>100</td></tr><tr><td>7</td><td>8</td><td>Valcun</td><td>100</td></tr></tbody></table>"
      ]
     },
     "execution_count": 13,
     "metadata": {},
     "output_type": "execute_result"
    }
   ],
   "source": [
    "users"
   ]
  },
  {
   "cell_type": "code",
   "execution_count": 14,
   "metadata": {},
   "outputs": [
    {
     "data": {
      "text/html": [
       "<table><thead><tr><th>Id</th><th>name</th><th>degree</th></tr></thead><tbody><tr><td>1</td><td>Ahmed</td><td>100</td></tr></tbody></table>"
      ]
     },
     "execution_count": 14,
     "metadata": {},
     "output_type": "execute_result"
    }
   ],
   "source": [
    "users[0]"
   ]
  },
  {
   "cell_type": "code",
   "execution_count": 16,
   "metadata": {},
   "outputs": [
    {
     "data": {
      "text/html": [
       "<table><thead><tr><th>Id</th><th>name</th><th>degree</th></tr></thead><tbody><tr><td>3</td><td>Soltan</td><td>100</td></tr></tbody></table>"
      ]
     },
     "execution_count": 16,
     "metadata": {},
     "output_type": "execute_result"
    }
   ],
   "source": [
    "var my =  users.First(x=> x.Id == 3);\n",
    "my"
   ]
  },
  {
   "cell_type": "code",
   "execution_count": null,
   "metadata": {},
   "outputs": [],
   "source": []
  }
 ],
 "metadata": {
  "kernelspec": {
   "display_name": ".NET (C#)",
   "language": "C#",
   "name": ".net-csharp"
  },
  "language_info": {
   "file_extension": ".cs",
   "mimetype": "text/x-csharp",
   "name": "C#",
   "pygments_lexer": "csharp",
   "version": "8.0"
  }
 },
 "nbformat": 4,
 "nbformat_minor": 4
}
