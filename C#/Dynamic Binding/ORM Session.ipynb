{
 "cells": [
  {
   "cell_type": "markdown",
   "metadata": {},
   "source": [
    "# Object-Relational Mapping ( Code first or Database first )\n",
    "\n",
    "> ORM stands for `Object-Relational Mapping (ORM)` is a programming technique for converting data between relational databases and object oriented programming languages such as  C#, Java, python, JS.\n",
    "\n",
    "> It is a programming technique that abstracts your code from the database behind it.\n",
    "\n",
    "- In plain English, if you are using ORM and a Sql Server database, you could switch to any SQL-based databases like PostgreSQL or MySQl or other and NoSQl like mongodb, Coach db, Cosmos db, Dynamo db  at any time without changing your code. At all.\n",
    "\n",
    "![](./PICS/db0003-01-what_is_orm.svg\n",
    ")\n",
    "## 1- The Big Bang story of programmers and database specialists\n",
    "\n",
    "- If you write Object-Oriented Code, having a place to store your data is a must.\n",
    "- In fact, the traditional way to go is to use a Relational Database.\n",
    "- You can use Microsoft SQL, MySQL, or PostgreSQL, but in any case, you know the pain. \n",
    "- You have to spend **time mapping** between tables and your classes, create methods to save in the database and read from it, and so on.\n",
    "![](./PICS/disappointed-with-the-world.jpg)\n",
    "\n",
    "> Well, not anymore my friend. \n",
    "\n",
    "> we will explain what is ORM (Object-Relational Mapping), a solution that will solve all your pains.\n",
    "\n",
    "\n",
    "- Using an Object Relational Mapping library improves the <mark>application development process and runtime handling</mark> in many aspects. \n",
    "- To handle the communication between the Object Domain model (Classes/Objects) and Relational Model (Table/Records), we would be wasting a lot of time in writing boiler plate template code.\n",
    "- To ensure a seamless communication with robust implementation and good performance, it is better to embrace an already available ORM like:\n",
    "  - Entity Framework, Dapper (C#, F#, Visula Basic)\n",
    "  - Mongoose, RxDb NodeJs\n",
    "  - Django ORM (Python)\n",
    "  - Laravel Eloquent (PHP)\n",
    "  \n",
    "> this session we work on .Net Why?\n",
    "- as this notebook is .Net \n",
    "- and the big deal:\n",
    "![](./PICS/dotnet5_platform.png)\n",
    "\n",
    "\n"
   ]
  },
  {
   "cell_type": "markdown",
   "metadata": {},
   "source": [
    "## 2- Environment Configuration\n",
    "\n",
    "- [Install Python 3.9](https://www.python.org/ftp/python/3.9.0/python-3.9.0-amd64.exe) or [Anaconda](https://repo.anaconda.com/archive/Anaconda3-2020.11-Windows-x86_64.exe)\n",
    "- Install Dotnet 5 [SDK](https://dotnet.microsoft.com/download/dotnet/thank-you/sdk-5.0.100-windows-x64-installer) and [Runtime](https://dotnet.microsoft.com/download/dotnet/thank-you/runtime-aspnetcore-5.0.0-windows-x64-installer) \n",
    "- Open Terminal or Powershell or any bash\n",
    "\n",
    "\n",
    "- install Jupyter\n",
    "`$ pip install jupyterlab`\n",
    "\n",
    "- Installing the try tool of dotnet\n",
    "`$ dotnet tool install -g dotnet-try`\n",
    "\n",
    "- Installing the dotnet jupyter kernel\n",
    "`$ dotnet try jupyter install`\n",
    "- Open Jupyter notebook\n",
    "`$jupyter notebook`\n",
    "\n",
    "\n",
    "![](./PICS/1.PNG)\n",
    "![](./PICS/2.PNG)\n",
    "\n",
    "- Install SQL Server \n",
    "\n"
   ]
  },
  {
   "cell_type": "markdown",
   "metadata": {},
   "source": [
    "## 3-  Installing Assemblies and using them\n"
   ]
  },
  {
   "cell_type": "code",
   "execution_count": 1,
   "metadata": {},
   "outputs": [
    {
     "data": {
      "text/html": [
       "\r\n",
       "<div>\r\n",
       "    <div id='dotnet-interactive-this-cell-18056.Microsoft.DotNet.Interactive.Http.HttpPort' style='display: none'>\r\n",
       "        The below script needs to be able to find the current output cell; this is an easy method to get it.\r\n",
       "    </div>\r\n",
       "    <script type='text/javascript'>\r\n",
       "async function probeAddresses(probingAddresses) {\r\n",
       "    function timeout(ms, promise) {\r\n",
       "        return new Promise(function (resolve, reject) {\r\n",
       "            setTimeout(function () {\r\n",
       "                reject(new Error('timeout'))\r\n",
       "            }, ms)\r\n",
       "            promise.then(resolve, reject)\r\n",
       "        })\r\n",
       "    }\r\n",
       "\r\n",
       "    if (Array.isArray(probingAddresses)) {\r\n",
       "        for (let i = 0; i < probingAddresses.length; i++) {\r\n",
       "\r\n",
       "            let rootUrl = probingAddresses[i];\r\n",
       "\r\n",
       "            if (!rootUrl.endsWith('/')) {\r\n",
       "                rootUrl = `${rootUrl}/`;\r\n",
       "            }\r\n",
       "\r\n",
       "            try {\r\n",
       "                let response = await timeout(1000, fetch(`${rootUrl}discovery`, {\r\n",
       "                    method: 'POST',\r\n",
       "                    cache: 'no-cache',\r\n",
       "                    mode: 'cors',\r\n",
       "                    timeout: 1000,\r\n",
       "                    headers: {\r\n",
       "                        'Content-Type': 'text/plain'\r\n",
       "                    },\r\n",
       "                    body: probingAddresses[i]\r\n",
       "                }));\r\n",
       "\r\n",
       "                if (response.status == 200) {\r\n",
       "                    return rootUrl;\r\n",
       "                }\r\n",
       "            }\r\n",
       "            catch (e) { }\r\n",
       "        }\r\n",
       "    }\r\n",
       "}\r\n",
       "\r\n",
       "function loadDotnetInteractiveApi() {\r\n",
       "    probeAddresses([\"http://192.168.192.1:1000/\", \"http://192.168.1.5:1000/\", \"http://127.0.0.1:1000/\"])\r\n",
       "        .then((root) => {\r\n",
       "        // use probing to find host url and api resources\r\n",
       "        // load interactive helpers and language services\r\n",
       "        let dotnetInteractiveRequire = require.config({\r\n",
       "        context: '18056.Microsoft.DotNet.Interactive.Http.HttpPort',\r\n",
       "                paths:\r\n",
       "            {\r\n",
       "                'dotnet-interactive': `${root}resources`\r\n",
       "                }\r\n",
       "        }) || require;\r\n",
       "\r\n",
       "            window.dotnetInteractiveRequire = dotnetInteractiveRequire;\r\n",
       "\r\n",
       "            window.configureRequireFromExtension = function(extensionName, extensionCacheBuster) {\r\n",
       "                let paths = {};\r\n",
       "                paths[extensionName] = `${root}extensions/${extensionName}/resources/`;\r\n",
       "                \r\n",
       "                let internalRequire = require.config({\r\n",
       "                    context: extensionCacheBuster,\r\n",
       "                    paths: paths,\r\n",
       "                    urlArgs: `cacheBuster=${extensionCacheBuster}`\r\n",
       "                    }) || require;\r\n",
       "\r\n",
       "                return internalRequire\r\n",
       "            };\r\n",
       "        \r\n",
       "            dotnetInteractiveRequire([\r\n",
       "                    'dotnet-interactive/dotnet-interactive'\r\n",
       "                ],\r\n",
       "                function (dotnet) {\r\n",
       "                    dotnet.init(window);\r\n",
       "                },\r\n",
       "                function (error) {\r\n",
       "                    console.log(error);\r\n",
       "                }\r\n",
       "            );\r\n",
       "        })\r\n",
       "        .catch(error => {console.log(error);});\r\n",
       "    }\r\n",
       "\r\n",
       "// ensure `require` is available globally\r\n",
       "if ((typeof(require) !==  typeof(Function)) || (typeof(require.config) !== typeof(Function))) {\r\n",
       "    let require_script = document.createElement('script');\r\n",
       "    require_script.setAttribute('src', 'https://cdnjs.cloudflare.com/ajax/libs/require.js/2.3.6/require.min.js');\r\n",
       "    require_script.setAttribute('type', 'text/javascript');\r\n",
       "    \r\n",
       "    \r\n",
       "    require_script.onload = function() {\r\n",
       "        loadDotnetInteractiveApi();\r\n",
       "    };\r\n",
       "\r\n",
       "    document.getElementsByTagName('head')[0].appendChild(require_script);\r\n",
       "}\r\n",
       "else {\r\n",
       "    loadDotnetInteractiveApi();\r\n",
       "}\r\n",
       "\r\n",
       "    </script>\r\n",
       "</div>"
      ]
     },
     "metadata": {},
     "output_type": "display_data"
    },
    {
     "data": {
      "text/plain": [
       "Installed package Microsoft.EntityFrameworkCore.Tools version 3.1.8"
      ]
     },
     "metadata": {},
     "output_type": "display_data"
    },
    {
     "data": {
      "text/plain": [
       "Installed package Microsoft.EntityFrameworkCore version 3.1.8"
      ]
     },
     "metadata": {},
     "output_type": "display_data"
    },
    {
     "data": {
      "text/plain": [
       "Installed package Microsoft.EntityFrameworkCore.SqlServer version 3.1.8"
      ]
     },
     "metadata": {},
     "output_type": "display_data"
    },
    {
     "data": {
      "text/plain": [
       "Installed package Microsoft.EntityFrameworkCore.Design version 3.1.8"
      ]
     },
     "metadata": {},
     "output_type": "display_data"
    }
   ],
   "source": [
    "// Installing Assemblies\n",
    "\n",
    "#r \"nuget:Microsoft.EntityFrameworkCore, 3.1.8\"\n",
    "#r \"nuget:Microsoft.EntityFrameworkCore.Tools, 3.1.8\"\n",
    "#r \"nuget:Microsoft.EntityFrameworkCore.Design, 3.1.8\"\n",
    "#r \"nuget:Microsoft.EntityFrameworkCore.SqlServer, 3.1.8\"\n",
    "\n",
    "    \n",
    "using System;\n",
    "//Lists \n",
    "using System.Collections; \n",
    "using System.Collections.Generic;\n",
    "using Microsoft.EntityFrameworkCore;\n",
    "using Microsoft.EntityFrameworkCore.Design;\n",
    "using Microsoft.EntityFrameworkCore.SqlServer;\n",
    "using Microsoft.EntityFrameworkCore.Infrastructure;\n",
    "using Microsoft.EntityFrameworkCore.Migrations;\n",
    "using System.Linq;\n",
    "using System.Threading.Tasks;\n",
    "\n",
    "\n",
    "\n"
   ]
  },
  {
   "cell_type": "code",
   "execution_count": 2,
   "metadata": {},
   "outputs": [],
   "source": [
    "public class Student\n",
    "{\n",
    "    public int StudentId { get; set; }\n",
    "    public string Name { get; set; }\n",
    "}\n",
    "\n",
    "public class Course\n",
    "{\n",
    "    public int CourseId { get; set; }\n",
    "    public string CourseName { get; set; }\n",
    "}\n",
    "\n",
    "public class SchoolContext : DbContext\n",
    "{\n",
    "    public DbSet<Student> Students { get; set; }\n",
    "    public DbSet<Course> Courses { get; set; }\n",
    "\n",
    "    protected override void OnConfiguring(DbContextOptionsBuilder optionsBuilder)\n",
    "    { \n",
    "        optionsBuilder.UseSqlServer(@\"Data Source=DESKTOP-MM55CCG;Initial Catalog=Schooldb;Trusted_Connection=True;MultipleActiveResultSets=true\");\n",
    "    }\n",
    "}"
   ]
  },
  {
   "cell_type": "code",
   "execution_count": 3,
   "metadata": {},
   "outputs": [],
   "source": [
    "SchoolContext db = new SchoolContext();\n",
    "db.Database.EnsureCreated();\n",
    "var migrator = db.Database.GetService<IMigrator>();\n",
    "await migrator.MigrateAsync();"
   ]
  },
  {
   "cell_type": "code",
   "execution_count": 16,
   "metadata": {},
   "outputs": [],
   "source": []
  },
  {
   "cell_type": "code",
   "execution_count": 2,
   "metadata": {},
   "outputs": [
    {
     "name": "stdout",
     "output_type": "stream",
     "text": [
      "No project was found. Change the current working directory or use the --project option.\r\n"
     ]
    }
   ],
   "source": [
    "dotnet ef migrations add initial "
   ]
  },
  {
   "cell_type": "code",
   "execution_count": null,
   "metadata": {},
   "outputs": [],
   "source": []
  }
 ],
 "metadata": {
  "kernelspec": {
   "display_name": ".NET (C#)",
   "language": "C#",
   "name": ".net-csharp"
  },
  "language_info": {
   "file_extension": ".cs",
   "mimetype": "text/x-csharp",
   "name": "C#",
   "pygments_lexer": "csharp",
   "version": "8.0"
  }
 },
 "nbformat": 4,
 "nbformat_minor": 4
}
